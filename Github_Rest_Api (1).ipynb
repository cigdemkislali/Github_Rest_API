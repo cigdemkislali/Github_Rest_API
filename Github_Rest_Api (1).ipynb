{
  "nbformat": 4,
  "nbformat_minor": 0,
  "metadata": {
    "colab": {
      "provenance": []
    },
    "kernelspec": {
      "name": "python3",
      "display_name": "Python 3"
    },
    "language_info": {
      "name": "python"
    }
  },
  "cells": [
    {
      "cell_type": "code",
      "execution_count": 1,
      "metadata": {
        "id": "mfHsN1ER11sd"
      },
      "outputs": [],
      "source": [
        "import requests"
      ]
    },
    {
      "cell_type": "code",
      "source": [
        "class Github:\n",
        "  def __init__(self):\n",
        "      self.api_url = 'https://api.github.com'\n",
        "  def getUser(self, username):\n",
        "      response = requests.get(self.api_url+ '/users/'+ username)\n",
        "      return response.json()\n",
        "  def getRepositories(self, username):\n",
        "      response = requests.get(self.api_url+ '/users/'+ username+ '/repos')\n",
        "      return response.json()\n",
        "github = Github()\n",
        "\n",
        "while True:\n",
        "  secim = input('1- Find User\\n2- Get Repositories\\n3- Create Repository\\n4- Exit\\nsecim: ')\n",
        "  if secim == '4':\n",
        "    break\n",
        "  else:\n",
        "    if secim == '1':\n",
        "        username = input('username: ')\n",
        "        result = github.getUser(username)\n",
        "        print(f\"name: {result['name']} public repos: {result['public_repos']} follower: {result['followers']}\")\n",
        "    elif secim == '2':\n",
        "        username = input('username: ')\n",
        "        result = github.getRepositories(username)\n",
        "        for repo in result:\n",
        "          print(repo['name'])\n",
        "    elif secim == '3':\n",
        "      pass\n",
        "    else:\n",
        "      print('yanlış seçim')"
      ],
      "metadata": {
        "colab": {
          "base_uri": "https://localhost:8080/"
        },
        "id": "kwfJ4quW13Sm",
        "outputId": "37f37d0b-3949-46e0-b2a6-56dd5b737cea"
      },
      "execution_count": 11,
      "outputs": [
        {
          "name": "stdout",
          "output_type": "stream",
          "text": [
            "1- Find User\n",
            "2- Get Repositories\n",
            "3- Create Repository\n",
            "4- Exit\n",
            "secim: 1\n",
            "username: algoritma\n",
            "name: None public repos: 4 follower: 0\n",
            "1- Find User\n",
            "2- Get Repositories\n",
            "3- Create Repository\n",
            "4- Exit\n",
            "secim: 4\n"
          ]
        }
      ]
    },
    {
      "cell_type": "code",
      "source": [],
      "metadata": {
        "id": "VEJs0TeW13Uv"
      },
      "execution_count": null,
      "outputs": []
    },
    {
      "cell_type": "code",
      "source": [],
      "metadata": {
        "id": "rX69dKzL13YF"
      },
      "execution_count": null,
      "outputs": []
    }
  ]
}